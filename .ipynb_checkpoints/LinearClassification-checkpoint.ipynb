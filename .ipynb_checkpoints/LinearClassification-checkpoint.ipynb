{
 "cells": [
  {
   "cell_type": "code",
   "execution_count": 39,
   "metadata": {},
   "outputs": [],
   "source": [
    "import tensorflow as tf\n",
    "import numpy as np\n",
    "\n",
    "x_data = [[1, 2], [2, 3], [3, 1], [4, 3], [5, 3], [6, 2]]\n",
    "y_data = [[0], [0], [0], [1], [1], [1]]\n",
    "\n",
    "# xy = np.loadtxt('data-03-diabetes.csv', delimiter=',', dtype=np.float32)\n",
    "# x_data = xy[:, 0:-1]\n",
    "# y_data = xy[:, [-1]]\n",
    "\n",
    "\n",
    "# placegolders for a tensor that will be always fed\n",
    "X = tf.placeholder(tf.float32, shape = [None, 2])\n",
    "Y = tf.placeholder(tf.float32, shape = [None, 1])\n",
    "\n",
    "W = tf.Variable(tf.random_normal([2, 1]), name = 'weight')\n",
    "b = tf.Variable(tf.random_normal([1]), name = 'bias')\n",
    "\n",
    "# Hypothesis using sifmoid: tf.div(1., 1. + tf.exp(-tf.matmul(X, W) + b))\n",
    "hypothesis = tf.sigmoid(tf.matmul(X, W) + b)\n",
    "\n",
    "\n",
    "# cost / loss function\n",
    "cost = -tf.reduce_mean(Y * tf.log(hypothesis) + (1 - Y) * tf.log(1 - hypothesis)) \n",
    "\n",
    "train = tf.train.GradientDescentOptimizer(learning_rate = 0.01).minimize(cost)\n",
    "\n",
    "# Accuracy computation\n",
    "# True if hypothesis > 0.5 esle False\n",
    "predicted = tf.cast(hypothesis > 0.5, dtype = tf.float32)\n",
    "accuracy = tf.reduce_mean(tf.cast(tf.equal(predicted, Y), dtype = tf.float32))"
   ]
  },
  {
   "cell_type": "code",
   "execution_count": 40,
   "metadata": {},
   "outputs": [
    {
     "name": "stdout",
     "output_type": "stream",
     "text": [
      "Step     0 \n",
      "cost :  4.9457054\n",
      "Accuracy :  0.500000 \n",
      "\n",
      "Step  1000 \n",
      "cost :  0.4924476\n",
      "Accuracy :  0.833333 \n",
      "\n",
      "Step  2000 \n",
      "cost :  0.41090274\n",
      "Accuracy :  0.833333 \n",
      "\n",
      "Step  3000 \n",
      "cost :  0.3492079\n",
      "Accuracy :  0.833333 \n",
      "\n",
      "Step  4000 \n",
      "cost :  0.3011501\n",
      "Accuracy :  0.833333 \n",
      "\n",
      "Step  5000 \n",
      "cost :  0.26342434\n",
      "Accuracy :  0.833333 \n",
      "\n",
      "Step  6000 \n",
      "cost :  0.23344243\n",
      "Accuracy :  1.000000 \n",
      "\n",
      "Step  7000 \n",
      "cost :  0.20926094\n",
      "Accuracy :  1.000000 \n",
      "\n",
      "Step  8000 \n",
      "cost :  0.1894605\n",
      "Accuracy :  1.000000 \n",
      "\n",
      "Step  9000 \n",
      "cost :  0.17301168\n",
      "Accuracy :  1.000000 \n",
      "\n",
      "Step 10000 \n",
      "cost :  0.15916431\n",
      "Accuracy :  1.000000 \n",
      "\n"
     ]
    }
   ],
   "source": [
    "# Launch graph\n",
    "sess = tf.Session()\n",
    "# Initialize Tensorflow variables\n",
    "sess.run(tf.global_variables_initializer())\n",
    "\n",
    "\n",
    "for step in range (10001) :\n",
    "    cost_val, _ = sess.run([cost, train], feed_dict = {X : x_data, Y : y_data})\n",
    "    if step % 1000 == 0 :\n",
    "        print(\"Step %5d\" %step, \"\\ncost : \", cost_val)\n",
    "        a = sess.run(accuracy, feed_dict = {X : x_data, Y : y_data})\n",
    "        print(\"Accuracy : % lf \\n\" %a)\n",
    "# for step in range (10001) :\n",
    "#     cost_val, _ = sess.run([cost, train], feed_dict = {X : x_data2, Y : y_data2})\n",
    "#     if step % 1000 == 0 :\n",
    "#         print(step, cost_val)\n",
    "    \n",
    "#     saver = tf.train.Saver()\n",
    "#     saver.save(sess, \"./my_test\")\n",
    "    \n"
   ]
  },
  {
   "cell_type": "code",
   "execution_count": 7,
   "metadata": {},
   "outputs": [
    {
     "name": "stdout",
     "output_type": "stream",
     "text": [
      "\n",
      "Hypothesis : \n",
      " [[0.00149499]] \n",
      "Correct(Y) : \n",
      " [[0.]] \n",
      "Accuracy : \n",
      " 1.0\n",
      "\n",
      "Hypothesis : \n",
      " [[1.]] \n",
      "Correct(Y) : \n",
      " [[1.]] \n",
      "Accuracy : \n",
      " 1.0\n"
     ]
    }
   ],
   "source": [
    "h, c, a = sess.run([hypothesis, predicted, accuracy], feed_dict = {X : [[1, 2]], Y : [[0]]})\n",
    "print(\"\\nHypothesis : \\n\", h, \"\\nCorrect(Y) : \\n\", c, \"\\nAccuracy : \\n\", a)"
   ]
  }
 ],
 "metadata": {
  "kernelspec": {
   "display_name": "Python 3",
   "language": "python",
   "name": "python3"
  },
  "language_info": {
   "codemirror_mode": {
    "name": "ipython",
    "version": 3
   },
   "file_extension": ".py",
   "mimetype": "text/x-python",
   "name": "python",
   "nbconvert_exporter": "python",
   "pygments_lexer": "ipython3",
   "version": "3.6.4"
  }
 },
 "nbformat": 4,
 "nbformat_minor": 2
}
