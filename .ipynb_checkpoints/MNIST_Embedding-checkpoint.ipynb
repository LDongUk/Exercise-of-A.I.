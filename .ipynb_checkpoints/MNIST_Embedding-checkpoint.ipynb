{
 "cells": [
  {
   "cell_type": "code",
   "execution_count": 1,
   "metadata": {},
   "outputs": [
    {
     "name": "stderr",
     "output_type": "stream",
     "text": [
      "C:\\Anaconda3\\lib\\site-packages\\h5py\\__init__.py:36: FutureWarning: Conversion of the second argument of issubdtype from `float` to `np.floating` is deprecated. In future, it will be treated as `np.float64 == np.dtype(float).type`.\n",
      "  from ._conv import register_converters as _register_converters\n"
     ]
    }
   ],
   "source": [
    "%matplotlib inline\n",
    "import tensorflow as tf\n",
    "from tensorflow.examples.tutorials.mnist import input_data\n",
    "import matplotlib.pyplot as plt\n",
    "import numpy as np\n",
    "import os\n",
    "import random\n",
    "\n",
    "from tensorflow.contrib.tensorboard.plugins import projector"
   ]
  },
  {
   "cell_type": "code",
   "execution_count": 2,
   "metadata": {},
   "outputs": [],
   "source": [
    "def create_sprite_image(images):\n",
    "    \"\"\"Return a sprite image consisting of images passed as argument. Images should be\n",
    "        count * width * height\"\"\"\n",
    "    \n",
    "    if isinstance(images, list) :\n",
    "        images = np.array(images)\n",
    "        \n",
    "    img_h = images.shape[1]\n",
    "    img_w = images.shape[2]\n",
    "    \n",
    "    n_plots = int(np.ceil(np.sqrt(images.shape[0])))\n",
    "    \n",
    "    spriteimage = np.ones((img_h * n_plots, img_w * n_plots))\n",
    "    \n",
    "    for i in range(n_plots) :\n",
    "        for j in range(n_plots) :\n",
    "            this_filter = i * n_plots + j\n",
    "            \n",
    "            if this_filter < images.shape[0] :\n",
    "                this_img = images[this_filter]\n",
    "                spriteimage[i * img_h : (i + 1) * img_h, j * img_w : (j + 1) * img_w] = this_img\n",
    "    \n",
    "    return spriteimage\n",
    "\n",
    "def vector_to_matrix_mnist(mnist_digits) :\n",
    "    \"\"\"Reshape normal mnist digit (batch, 28 * 28) to matrix (batch, 28, 28)\"\"\"\n",
    "    return np.reshape(mnist_digits, (-1, 28, 28))\n",
    "\n",
    "def invert_grayscale(mnist_digits) :\n",
    "    \"\"\"Makes black white, and white black\"\"\"\n",
    "    return 1 - mnist_digits"
   ]
  },
  {
   "cell_type": "code",
   "execution_count": 3,
   "metadata": {},
   "outputs": [
    {
     "name": "stdout",
     "output_type": "stream",
     "text": [
      "Extracting MNIST_data/train-images-idx3-ubyte.gz\n",
      "Extracting MNIST_data/train-labels-idx1-ubyte.gz\n",
      "Extracting MNIST_data/t10k-images-idx3-ubyte.gz\n",
      "Extracting MNIST_data/t10k-labels-idx1-ubyte.gz\n"
     ]
    }
   ],
   "source": [
    "LOG_DIR = '/path/to/mnistsample2'\n",
    "NAME_TO_VISUALIZE_VARIABLE = 'mnistembedding'\n",
    "TO_EMBED_COUNT = 500\n",
    "\n",
    "path_for_mnist_sprites = os.path.join(LOG_DIR, 'mnistdigits.png')\n",
    "path_for_mnist_metadata = os.path.join(LOG_DIR, 'metadata.tsv')\n",
    "\n",
    "mnist = input_data.read_data_sets(\"MNIST_data/\", one_hot=True)\n"
   ]
  },
  {
   "cell_type": "code",
   "execution_count": 4,
   "metadata": {},
   "outputs": [],
   "source": [
    "tf.reset_default_graph()\n",
    "\n",
    "with tf.name_scope('input') as scope :\n",
    "    keep_prob = tf.placeholder(tf.float32)\n",
    "    nb_classes = 10\n",
    "    X = tf.placeholder(tf.float32, [None, 784])\n",
    "    Y = tf.placeholder(tf.float32, [None, nb_classes])\n",
    "\n",
    "    W1 = tf.get_variable(\"W1\", shape = [784, 512], initializer=tf.contrib.layers.xavier_initializer())\n",
    "    b1 = tf.Variable(tf.random_normal([512]))\n",
    "    L1 = tf.nn.relu(tf.matmul(X, W1) + b1)\n",
    "    L1 = tf.nn.dropout(L1, keep_prob=keep_prob)\n",
    "\n",
    "with tf.name_scope('hidden1') as scope :\n",
    "    W2 = tf.get_variable(\"W2\", shape = [512, 512], initializer=tf.contrib.layers.xavier_initializer())\n",
    "    b2 = tf.Variable(tf.random_normal([512]))\n",
    "    L2 = tf.nn.relu(tf.matmul(L1, W2) + b2)\n",
    "    L2 = tf.nn.dropout(L2, keep_prob=keep_prob)\n",
    "\n",
    "with tf.name_scope('hidden2') as scope :\n",
    "    W3 = tf.get_variable(\"W3\", shape = [512, 512], initializer=tf.contrib.layers.xavier_initializer())\n",
    "    b3 = tf.Variable(tf.random_normal([512]))\n",
    "    L3 = tf.nn.relu(tf.matmul(L2, W3) + b3)\n",
    "    L3 = tf.nn.dropout(L3, keep_prob=keep_prob)\n",
    "\n",
    "with tf.name_scope('hidden3') as scope :\n",
    "    W4 = tf.get_variable(\"W4\", shape = [512, 512], initializer=tf.contrib.layers.xavier_initializer())\n",
    "    b4 = tf.Variable(tf.random_normal([512]))\n",
    "    L4 = tf.nn.relu(tf.matmul(L3, W4) + b4)\n",
    "    L4 = tf.nn.dropout(L4, keep_prob=keep_prob)\n",
    "\n",
    "with tf.name_scope('output') as scope :\n",
    "    W5 = tf.get_variable(\"W5\", shape = [512, nb_classes], initializer=tf.contrib.layers.xavier_initializer())\n",
    "    b5 = tf.Variable(tf.random_normal([nb_classes]))\n",
    "\n",
    "with tf.name_scope('hypothesis') as scope :\n",
    "    hypothesis = tf.matmul(L4, W5) + b5\n",
    "\n",
    "with tf.name_scope('cost') as scope :\n",
    "    cost = tf.reduce_mean(tf.nn.softmax_cross_entropy_with_logits_v2(logits=hypothesis, labels=Y))\n",
    "\n",
    "    optimizer = tf.train.AdamOptimizer(learning_rate=0.001).minimize(cost)\n",
    "\n",
    "\n",
    "    is_correct = tf.equal(tf.argmax(hypothesis, 1), tf.argmax(Y, 1))\n",
    "\n",
    "    accuracy = tf.reduce_mean(tf.cast(is_correct, tf.float32))\n"
   ]
  },
  {
   "cell_type": "code",
   "execution_count": 5,
   "metadata": {},
   "outputs": [
    {
     "name": "stdout",
     "output_type": "stream",
     "text": [
      "Epoch: 0001 cost =  0.460337437\n",
      "Epoch: 0002 cost =  0.170474640\n",
      "Epoch: 0003 cost =  0.132335707\n",
      "Epoch: 0004 cost =  0.104868835\n",
      "Epoch: 0005 cost =  0.093559649\n",
      "Epoch: 0006 cost =  0.084760648\n",
      "Epoch: 0007 cost =  0.074404908\n",
      "Epoch: 0008 cost =  0.069539599\n",
      "Epoch: 0009 cost =  0.065053970\n",
      "Epoch: 0010 cost =  0.060314753\n",
      "Epoch: 0011 cost =  0.052952156\n",
      "Epoch: 0012 cost =  0.052905611\n",
      "Epoch: 0013 cost =  0.050443136\n",
      "Epoch: 0014 cost =  0.047901095\n",
      "Epoch: 0015 cost =  0.046972811\n",
      "Accuracy:  0.9821\n"
     ]
    }
   ],
   "source": [
    "training_epochs = 15\n",
    "batch_size = 100\n",
    "\n",
    "\n",
    "sess = tf.InteractiveSession()\n",
    "sess.run(tf.global_variables_initializer())\n",
    "saver = tf.train.Saver()\n",
    "saver.save(sess, os.path.join(LOG_DIR, \"model.ckpt\"), 1)\n",
    "\n",
    "\n",
    "#result = sess.run([merged])\n",
    "\n",
    "for epoch in range(training_epochs) :\n",
    "    avg_cost = 0\n",
    "    total_batch = int(mnist.train.num_examples / batch_size)\n",
    "\n",
    "    for i in range(total_batch) :\n",
    "        batch_xs, batch_ys = mnist.train.next_batch(batch_size)\n",
    "        feed_dict = {X : batch_xs, Y : batch_ys, keep_prob : 0.7}\n",
    "        c, _ = sess.run([cost, optimizer], feed_dict=feed_dict)\n",
    "        avg_cost += c / total_batch\n",
    "        \n",
    "        \n",
    "    print('Epoch:', '%04d' % (epoch + 1), 'cost = ', '{:.9f}'.format(avg_cost))\n",
    "\n",
    "\n",
    "\n",
    "print(\"Accuracy: \", accuracy.eval(session=sess, feed_dict={X : mnist.test.images, Y: mnist.test.labels, keep_prob : 1}))\n"
   ]
  },
  {
   "cell_type": "code",
   "execution_count": 6,
   "metadata": {},
   "outputs": [
    {
     "data": {
      "text/plain": [
       "<matplotlib.image.AxesImage at 0x2199fc7b710>"
      ]
     },
     "execution_count": 6,
     "metadata": {},
     "output_type": "execute_result"
    },
    {
     "data": {
      "image/png": "[encoded data removed]",
      "text/plain": [
       "<matplotlib.figure.Figure at 0x21980469c88>"
      ]
     },
     "metadata": {},
     "output_type": "display_data"
    }
   ],
   "source": [
    "batch_xs = mnist.test.images[ : 200]\n",
    "\n",
    "\n",
    "embedding_var = tf.Variable(batch_xs, name=NAME_TO_VISUALIZE_VARIABLE)\n",
    "summary_writer = tf.summary.FileWriter(LOG_DIR)\n",
    "\n",
    "\n",
    "config = projector.ProjectorConfig()\n",
    "embedding = config.embeddings.add()\n",
    "embedding.tensor_name = embedding_var.name\n",
    "\n",
    "# Specify where you find the metadata\n",
    "embedding.metadata_path = path_for_mnist_metadata #'metadata.tsv'\n",
    "\n",
    "# Specify where you find the sprite (we will create this later)\n",
    "embedding.sprite.image_path = path_for_mnist_sprites #'mnistdigits.png'\n",
    "embedding.sprite.single_image_dim.extend([28,28])\n",
    "\n",
    "# Say that you want to visualise the embeddings\n",
    "projector.visualize_embeddings(summary_writer, config)\n",
    "\n",
    "\n",
    "\n",
    "to_visualise = batch_xs\n",
    "to_visualise = vector_to_matrix_mnist(to_visualise)\n",
    "to_visualise = invert_grayscale(to_visualise)\n",
    "\n",
    "sprite_image = create_sprite_image(to_visualise)\n",
    "\n",
    "plt.imsave(path_for_mnist_sprites,sprite_image,cmap='gray')\n",
    "plt.imshow(sprite_image,cmap='gray')"
   ]
  },
  {
   "cell_type": "code",
   "execution_count": 11,
   "metadata": {},
   "outputs": [
    {
     "name": "stdout",
     "output_type": "stream",
     "text": [
      "Step :  0\n",
      "Label :  [7]\n",
      "Prediction :  [7]\n"
     ]
    },
    {
     "data": {
      "image/png": "[encoded data removed]",
      "text/plain": [
       "<matplotlib.figure.Figure at 0x219a4bf0f60>"
      ]
     },
     "metadata": {},
     "output_type": "display_data"
    },
    {
     "name": "stdout",
     "output_type": "stream",
     "text": [
      "Step :  100\n",
      "Label :  [6]\n",
      "Prediction :  [6]\n"
     ]
    },
    {
     "data": {
      "image/png": "[encoded data removed]",
      "text/plain": [
       "<matplotlib.figure.Figure at 0x219ad15df60>"
      ]
     },
     "metadata": {},
     "output_type": "display_data"
    }
   ],
   "source": [
    "with open(path_for_mnist_metadata,'w') as f:\n",
    "    f.write(\"Index\\tLabel\\n\")\n",
    "    for index in range(len(mnist.test.images[0 : 200])) :\n",
    "        label = sess.run(tf.argmax(hypothesis, 1), feed_dict={X : mnist.test.images[index: index + 1], keep_prob : 1})\n",
    "        f.write(\"%d\\t%d\\n\" % (index,label))\n",
    "        \n",
    "        if index % 100 == 0 :\n",
    "            print(\"Step : \", index)"
   ]
  },
  {
   "cell_type": "code",
   "execution_count": 11,
   "metadata": {},
   "outputs": [
    {
     "name": "stdout",
     "output_type": "stream",
     "text": [
      "Label :  [6]\n",
      "Prediction :  [6]\n"
     ]
    },
    {
     "data": {
      "image/png": "[encoded data removed]",
      "text/plain": [
       "<matplotlib.figure.Figure at 0x1ee1e097be0>"
      ]
     },
     "metadata": {},
     "output_type": "display_data"
    }
   ],
   "source": [
    "r = random.randint(0, mnist.test.num_examples - 1)\n",
    "print(\"Label : \", sess.run(tf.argmax(mnist.test.labels[r : r + 1], 1)))\n",
    "print(\"Prediction : \", sess.run(tf.argmax(hypothesis, 1), feed_dict={X : mnist.test.images[r: r + 1], keep_prob : 1}))\n",
    "\n",
    "plt.imshow(mnist.test.images[r : r + 1].reshape(28, 28), cmap = 'Greys', interpolation='nearest')\n",
    "plt.show()"
   ]
  }
 ],
 "metadata": {
  "kernelspec": {
   "display_name": "Python 3",
   "language": "python",
   "name": "python3"
  },
  "language_info": {
   "codemirror_mode": {
    "name": "ipython",
    "version": 3
   },
   "file_extension": ".py",
   "mimetype": "text/x-python",
   "name": "python",
   "nbconvert_exporter": "python",
   "pygments_lexer": "ipython3",
   "version": "3.6.4"
  }
 },
 "nbformat": 4,
 "nbformat_minor": 2
}
