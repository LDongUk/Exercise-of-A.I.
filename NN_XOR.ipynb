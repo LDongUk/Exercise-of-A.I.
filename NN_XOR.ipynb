{
 "cells": [
  {
   "cell_type": "code",
   "execution_count": 1,
   "metadata": {},
   "outputs": [
    {
     "name": "stderr",
     "output_type": "stream",
     "text": [
      "C:\\Anaconda3\\lib\\site-packages\\h5py\\__init__.py:36: FutureWarning: Conversion of the second argument of issubdtype from `float` to `np.floating` is deprecated. In future, it will be treated as `np.float64 == np.dtype(float).type`.\n",
      "  from ._conv import register_converters as _register_converters\n"
     ]
    }
   ],
   "source": [
    "import tensorflow as tf\n",
    "import numpy as np"
   ]
  },
  {
   "cell_type": "code",
   "execution_count": 2,
   "metadata": {},
   "outputs": [],
   "source": [
    "x_data = np.array([[0, 0], [0, 1], [1, 0], [1, 1]])\n",
    "y_data = np.array([[0], [1], [1], [0]])\n",
    "\n",
    "X = tf.placeholder(tf.float32)\n",
    "Y = tf.placeholder(tf.float32)\n",
    "\n",
    "W1 = tf.Variable(tf.random_normal([2, 2]), name = 'weight1')\n",
    "b1 = tf.Variable(tf.random_normal([2]), name = 'bias1')\n",
    "\n",
    "layer1 = tf.sigmoid(tf.matmul(X, W1) + b1)\n",
    "\n",
    "\n",
    "W2 = tf.Variable(tf.random_normal([2, 1]), name = 'weight2')\n",
    "b2 = tf.Variable(tf.random_normal([1]), name = 'bias2')\n",
    "\n",
    "hypothesis = tf.sigmoid(tf.matmul(layer1, W2) + b2)"
   ]
  },
  {
   "cell_type": "code",
   "execution_count": 8,
   "metadata": {
    "scrolled": false
   },
   "outputs": [
    {
     "name": "stdout",
     "output_type": "stream",
     "text": [
      "step : 0     0.7798612 \n",
      "\n",
      "W1 : \n",
      " [[-0.9592006  -0.75864214]\n",
      " [-0.26752168  0.37691098]]\n",
      "W2 : \n",
      " [[-0.55570126]\n",
      " [-0.9239968 ]]\n",
      "\n",
      "X data : [[0, 0], [0, 1], [1, 0], [1, 1]]\n",
      "Y data : [[0], [1], [1], [0]]\n",
      "\n",
      "Correct : \n",
      " [[0.]\n",
      " [0.]\n",
      " [0.]\n",
      " [0.]] \n",
      "Accuracy : \n",
      " 0.5\n",
      "step : 20000 cost :  0.00596974 \n",
      "\n",
      "W1 : \n",
      " [[-6.418283  -7.223703 ]\n",
      " [ 6.0379868  7.1317887]]\n",
      "W2 : \n",
      " [[ 11.739497]\n",
      " [-11.085879]]\n",
      "\n",
      "X data : [[0, 0], [0, 1], [1, 0], [1, 1]]\n",
      "Y data : [[0], [1], [1], [0]]\n",
      "\n",
      "Correct : \n",
      " [[0.]\n",
      " [1.]\n",
      " [1.]\n",
      " [0.]] \n",
      "Accuracy : \n",
      " 1.0\n"
     ]
    }
   ],
   "source": [
    "cost = -tf.reduce_mean(Y * tf.log(hypothesis) + (1 - Y) * tf.log(1 - hypothesis))\n",
    "train = tf.train.GradientDescentOptimizer(learning_rate=0.1).minimize(cost)\n",
    "\n",
    "prediced = tf.cast(hypothesis > 0.5, dtype= tf.float32)\n",
    "accuracy = tf.reduce_mean(tf.cast(tf.equal(prediced, Y), dtype=tf.float32))\n",
    "\n",
    "with tf.Session() as sess :\n",
    "    sess.run(tf.global_variables_initializer())\n",
    "    \n",
    "    for step in range(20001) :\n",
    "        sess.run(train, feed_dict={X : x_data, Y : y_data})\n",
    "        \n",
    "        if step == 0 :\n",
    "            print(\"step : %-5d\" %step, sess.run(cost, feed_dict = {X : x_data, Y : y_data}), \"\\n\")\n",
    "            print(\"W1 : \\n\", sess.run(W1))\n",
    "            print(\"W2 : \\n\", sess.run(W2))\n",
    "            \n",
    "            h, c, a = sess.run([hypothesis, prediced, accuracy], feed_dict={X : x_data, Y : y_data})\n",
    "            print(\"\\nX data : [[0, 0], [0, 1], [1, 0], [1, 1]]\")\n",
    "            print(\"Y data : [[0], [1], [1], [0]]\")\n",
    "            print(\"\\nCorrect : \\n\", c, \"\\nAccuracy : \\n\", a)\n",
    "            \n",
    "        if step == 20000 :\n",
    "            print(\"step : %-5d\" %step, \"cost : \", sess.run(cost, feed_dict = {X : x_data, Y : y_data}), \"\\n\")\n",
    "            print(\"W1 : \\n\", sess.run(W1))\n",
    "            print(\"W2 : \\n\", sess.run(W2))\n",
    "            \n",
    "            h, c, a = sess.run([hypothesis, prediced, accuracy], feed_dict={X : x_data, Y : y_data})\n",
    "            print(\"\\nX data : [[0, 0], [0, 1], [1, 0], [1, 1]]\")\n",
    "            print(\"Y data : [[0], [1], [1], [0]]\")\n",
    "            print(\"\\nCorrect : \\n\", c, \"\\nAccuracy : \\n\", a)"
   ]
  }
 ],
 "metadata": {
  "kernelspec": {
   "display_name": "Python 3",
   "language": "python",
   "name": "python3"
  },
  "language_info": {
   "codemirror_mode": {
    "name": "ipython",
    "version": 3
   },
   "file_extension": ".py",
   "mimetype": "text/x-python",
   "name": "python",
   "nbconvert_exporter": "python",
   "pygments_lexer": "ipython3",
   "version": "3.6.4"
  }
 },
 "nbformat": 4,
 "nbformat_minor": 2
}
